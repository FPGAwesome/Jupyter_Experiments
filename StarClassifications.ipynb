{
 "cells": [
  {
   "cell_type": "markdown",
   "metadata": {},
   "source": [
    "This is just a fun little notebook put together to mess with the star classification set posted here: https://www.kaggle.com/brsdincer/star-type-classification\n",
    "\n",
    "I'd like to find more datasets like this in the near future to work with, as this one isn't a particularly difficult one. I'm using XGBoost, though some pretty good solutions with KNN were implemented on that page yielding great results."
   ]
  },
  {
   "cell_type": "code",
   "execution_count": 1,
   "metadata": {},
   "outputs": [],
   "source": [
    "import numpy as np\n",
    "import pandas as pd\n",
    "import matplotlib.pyplot as plt\n",
    "\n",
    "from sklearn.decomposition import PCA # Test out some dimensionality reducing techniques on the stars dataset\n",
    "from sklearn.model_selection import train_test_split\n",
    "from sklearn.metrics import mean_absolute_error as mae\n",
    "from xgboost import XGBClassifier"
   ]
  },
  {
   "cell_type": "markdown",
   "metadata": {},
   "source": [
    "Here we'll start poking through the stars dataset"
   ]
  },
  {
   "cell_type": "code",
   "execution_count": 2,
   "metadata": {},
   "outputs": [
    {
     "name": "stdout",
     "output_type": "stream",
     "text": [
      "   Temperature         L       R    A_M Color Spectral_Class  Type\n",
      "0         3068  0.002400  0.1700  16.12   Red              M     0\n",
      "1         3042  0.000500  0.1542  16.60   Red              M     0\n",
      "2         2600  0.000300  0.1020  18.70   Red              M     0\n",
      "3         2800  0.000200  0.1600  16.65   Red              M     0\n",
      "4         1939  0.000138  0.1030  20.06   Red              M     0\n",
      "   Temperature         L       R    A_M  Color  Spectral_Class\n",
      "0         3068  0.002400  0.1700  16.12      0               0\n",
      "1         3042  0.000500  0.1542  16.60      0               0\n",
      "2         2600  0.000300  0.1020  18.70      0               0\n",
      "3         2800  0.000200  0.1600  16.65      0               0\n",
      "4         1939  0.000138  0.1030  20.06      0               0\n"
     ]
    }
   ],
   "source": [
    "stars_dataset = pd.read_csv('Datasets/Stars.csv')\n",
    "print(stars_dataset.head())\n",
    "\n",
    "# Fix up some colors with ambiguous names\n",
    "stars_dataset=stars_dataset.replace('Blue White','Blue-White')\n",
    "stars_dataset=stars_dataset.replace('Blue white','Blue-White')\n",
    "stars_dataset=stars_dataset.replace('Blue-white','Blue-White')\n",
    "stars_dataset=stars_dataset.replace('Yellowish White','White-Yellow')\n",
    "stars_dataset=stars_dataset.replace('yellow-white','White-Yellow')\n",
    "stars_dataset=stars_dataset.replace('Whitish','White')\n",
    "stars_dataset=stars_dataset.replace('white','White')\n",
    "stars_dataset=stars_dataset.replace('yellowish','Yellow')\n",
    "stars_dataset=stars_dataset.replace('Yellowish','Yellow')\n",
    "\n",
    "stars_X = stars_dataset[[\"Temperature\",\"L\",\"R\",\"A_M\",\"Color\",\"Spectral_Class\"]] # Input features\n",
    "\n",
    "# Convert our non-numerical columns to integers\n",
    "star_color_ints=pd.factorize(stars_X.Color)[0]\n",
    "stars_X=stars_X.drop('Color',axis=1)\n",
    "stars_X['Color']=star_color_ints\n",
    "\n",
    "spectral_class_ints=pd.factorize(stars_X.Spectral_Class)[0]\n",
    "stars_X=stars_X.drop('Spectral_Class',axis=1)\n",
    "stars_X['Spectral_Class']=spectral_class_ints\n",
    "\n",
    "# Display the corrected input data\n",
    "print(stars_X.head())\n",
    "\n",
    "stars_Y = stars_dataset[[\"Type\"]] # Output Labels\n",
    "\n"
   ]
  },
  {
   "cell_type": "code",
   "execution_count": 3,
   "metadata": {},
   "outputs": [],
   "source": [
    "n_components = 6\n",
    "\n",
    "pca = PCA(n_components=n_components)\n",
    "stars_X_PCA = pca.fit_transform(stars_X)"
   ]
  },
  {
   "cell_type": "code",
   "execution_count": 4,
   "metadata": {},
   "outputs": [
    {
     "data": {
      "image/png": "[encoded data removed]",
      "text/plain": [
       "<Figure size 576x576 with 1 Axes>"
      ]
     },
     "metadata": {
      "needs_background": "light"
     },
     "output_type": "display_data"
    }
   ],
   "source": [
    "# Star color matchup: ['Red', 'Blue-White', 'White', 'White-Yellow', 'Pale yellow orange', 'Blue', 'Orange', 'Yellow', 'Orange-Red']\n",
    "colors = [\"red\",\"skyblue\",\"white\",\"khaki\",\"gold\",\"blue\",\"orange\",\"yellow\",\"orangered\"] # Use this for pyplot colors, feels appropriate\n",
    "\n",
    "plt.figure(figsize=(8,8))\n",
    "ax = plt.axes() \n",
    "ax.set_facecolor(\"darkgrey\") # Makes for a nicer figure in night mode\n",
    "\n",
    "for color, i, star_type in zip(colors,list(range(0,int(stars_Y.nunique()))),list(stars_Y.Type.unique())):\n",
    "    plt.scatter(\n",
    "        stars_X_PCA[np.array(stars_Y==i).flatten(),0],\n",
    "        stars_X_PCA[np.array(stars_Y==i).flatten(),1],\n",
    "        color=str(color),\n",
    "        lw=2,\n",
    "        label=\"Star type \" + str(star_type)\n",
    "    )\n",
    "\n",
    "\n",
    "plt.xlabel(\"PCA of Stars dataset\")\n",
    "plt.legend(loc=\"best\", scatterpoints=1)\n",
    "plt.show()"
   ]
  },
  {
   "cell_type": "markdown",
   "metadata": {},
   "source": [
    "We can see some nice, distinguished clusters which is good (I just wanted to play with PCA on a novel dataset). Now lets play around with some gradient boosting."
   ]
  },
  {
   "cell_type": "code",
   "execution_count": 7,
   "metadata": {},
   "outputs": [
    {
     "data": {
      "text/plain": [
       "XGBClassifier(base_score=0.5, booster='gbtree', colsample_bylevel=1,\n",
       "              colsample_bynode=1, colsample_bytree=1, enable_categorical=False,\n",
       "              eval_metric='mlogloss', gamma=0, gpu_id=-1, importance_type=None,\n",
       "              interaction_constraints='', learning_rate=0.300000012,\n",
       "              max_delta_step=0, max_depth=6, min_child_weight=1, missing=nan,\n",
       "              monotone_constraints='()', n_estimators=100, n_jobs=16,\n",
       "              num_parallel_tree=1, objective='multi:softprob', predictor='auto',\n",
       "              random_state=0, reg_alpha=0, reg_lambda=1, scale_pos_weight=None,\n",
       "              subsample=1, tree_method='exact', use_label_encoder=False,\n",
       "              validate_parameters=1, ...)"
      ]
     },
     "execution_count": 7,
     "metadata": {},
     "output_type": "execute_result"
    }
   ],
   "source": [
    "# A ridiculously high test split, yes, but it is too easy of a problem when we have more reasonable testing parameters (~100% accuracy)! \n",
    "X_train,X_test,y_train,y_test = train_test_split(np.array(stars_X),np.array(stars_Y).flatten(),test_size=0.85,random_state=42)\n",
    "\n",
    "star_model = XGBClassifier(objective='multi:softprob',eval_metric='mlogloss',use_label_encoder=False)\n",
    "star_model.fit(X_train,y_train)"
   ]
  },
  {
   "cell_type": "code",
   "execution_count": 8,
   "metadata": {},
   "outputs": [
    {
     "name": "stdout",
     "output_type": "stream",
     "text": [
      "Accuracy: 0.9705882352941176\n"
     ]
    }
   ],
   "source": [
    "y_pred=star_model.predict(X_test)\n",
    "print(\"Accuracy: \" + str(np.sum(y_pred==y_test)/len(y_pred)))"
   ]
  }
 ],
 "metadata": {
  "interpreter": {
   "hash": "269534230229b09603dd87798ee24038f0ed1785b6ba8e9fca2dd224101d3198"
  },
  "kernelspec": {
   "display_name": "Python 3.8.12 64-bit ('jupyter_experiments': conda)",
   "language": "python",
   "name": "python3"
  },
  "language_info": {
   "codemirror_mode": {
    "name": "ipython",
    "version": 3
   },
   "file_extension": ".py",
   "mimetype": "text/x-python",
   "name": "python",
   "nbconvert_exporter": "python",
   "pygments_lexer": "ipython3",
   "version": "3.8.12"
  },
  "orig_nbformat": 4
 },
 "nbformat": 4,
 "nbformat_minor": 2
}
